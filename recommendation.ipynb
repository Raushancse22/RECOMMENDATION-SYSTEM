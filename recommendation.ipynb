{
 "cells": [
  {
   "cell_type": "code",
   "execution_count": 1,
   "id": "71647178",
   "metadata": {},
   "outputs": [],
   "source": [
    "# Internship Task-4: Recommendation System using Matrix Factorization"
   ]
  },
  {
   "cell_type": "code",
   "execution_count": 2,
   "id": "2e0ecc50",
   "metadata": {},
   "outputs": [],
   "source": [
    "# Step 1: Import Required Libraries\n",
    "import numpy as np\n",
    "import pandas as pd\n",
    "from sklearn.metrics import mean_squared_error\n",
    "import matplotlib.pyplot as plt\n",
    "import seaborn as sns"
   ]
  },
  {
   "cell_type": "code",
   "execution_count": 3,
   "id": "86a9eaa6",
   "metadata": {},
   "outputs": [
    {
     "name": "stdout",
     "output_type": "stream",
     "text": [
      "Ratings Data:\n",
      "   user_id  movie_id  rating\n",
      "0        0         0       5\n",
      "1        0         1       3\n",
      "2        0         2       2\n",
      "3        1         1       4\n",
      "4        1         2       3\n",
      "5        2         0       4\n",
      "6        2         2       5\n",
      "7        2         3       3\n",
      "8        3         0       2\n",
      "9        3         3       4\n"
     ]
    }
   ],
   "source": [
    "# Step 2: Create Sample Dataset (Movie Ratings)\n",
    "ratings_dict = {\n",
    "    \"user_id\": [0, 0, 0, 1, 1, 2, 2, 2, 3, 3],\n",
    "    \"movie_id\": [0, 1, 2, 1, 2, 0, 2, 3, 0, 3],\n",
    "    \"rating\": [5, 3, 2, 4, 3, 4, 5, 3, 2, 4]\n",
    "}\n",
    "df = pd.DataFrame(ratings_dict)\n",
    "print(\"Ratings Data:\")\n",
    "print(df)"
   ]
  },
  {
   "cell_type": "code",
   "execution_count": 4,
   "id": "f946b668",
   "metadata": {},
   "outputs": [],
   "source": [
    "# Step 3: Matrix Factorization using SVD\n",
    "class MatrixFactorization:\n",
    "    def __init__(self, R, K, alpha, beta, iterations):\n",
    "        self.R = R\n",
    "        self.num_users, self.num_items = R.shape\n",
    "        self.K = K\n",
    "        self.alpha = alpha\n",
    "        self.beta = beta\n",
    "        self.iterations = iterations\n",
    "\n",
    "    def train(self):\n",
    "        self.P = np.random.normal(\n",
    "            scale=1./self.K, size=(self.num_users, self.K))\n",
    "        self.Q = np.random.normal(\n",
    "            scale=1./self.K, size=(self.num_items, self.K))\n",
    "        self.b_u = np.zeros(self.num_users)\n",
    "        self.b_i = np.zeros(self.num_items)\n",
    "        self.b = np.mean(self.R[np.where(self.R != 0)])\n",
    "        self.samples = [\n",
    "            (i, j, self.R[i, j])\n",
    "            for i in range(self.num_users)\n",
    "            for j in range(self.num_items)\n",
    "            if self.R[i, j] > 0\n",
    "        ]\n",
    "\n",
    "        self.training_process = []\n",
    "        for i in range(self.iterations):\n",
    "            np.random.shuffle(self.samples)\n",
    "            self.sgd()\n",
    "            mse = self.mse()\n",
    "            self.training_process.append((i, mse))\n",
    "            print(f\"Iteration: {i+1} ; error = {mse:.4f}\")\n",
    "        return self.full_matrix()\n",
    "\n",
    "    def mse(self):\n",
    "        xs, ys = self.R.nonzero()\n",
    "        predicted = self.full_matrix()\n",
    "        error = 0\n",
    "        for x, y in zip(xs, ys):\n",
    "            error += pow(self.R[x, y] - predicted[x, y], 2)\n",
    "        return np.sqrt(error / len(xs))\n",
    "\n",
    "    def sgd(self):\n",
    "        for i, j, r in self.samples:\n",
    "            prediction = self.get_prediction(i, j)\n",
    "            e = (r - prediction)\n",
    "            self.b_u[i] += self.alpha * (e - self.beta * self.b_u[i])\n",
    "            self.b_i[j] += self.alpha * (e - self.beta * self.b_i[j])\n",
    "            self.P[i, :] += self.alpha * \\\n",
    "                (e * self.Q[j, :] - self.beta * self.P[i, :])\n",
    "            self.Q[j, :] += self.alpha * \\\n",
    "                (e * self.P[i, :] - self.beta * self.Q[j, :])\n",
    "\n",
    "    def get_prediction(self, i, j):\n",
    "        prediction = self.b + self.b_u[i] + \\\n",
    "            self.b_i[j] + self.P[i, :].dot(self.Q[j, :].T)\n",
    "        return prediction\n",
    "\n",
    "    def full_matrix(self):\n",
    "        return self.b + self.b_u[:, np.newaxis] + self.b_i[np.newaxis:,] + self.P.dot(self.Q.T)"
   ]
  },
  {
   "cell_type": "code",
   "execution_count": 7,
   "id": "43f6c648",
   "metadata": {},
   "outputs": [],
   "source": [
    "# Step 4: Create Rating Matrix\n",
    "R_df = df.pivot(index='user_id', columns='movie_id', values='rating').fillna(0)\n",
    "R = R_df.values"
   ]
  },
  {
   "cell_type": "code",
   "execution_count": 8,
   "id": "3200c95d",
   "metadata": {},
   "outputs": [
    {
     "name": "stdout",
     "output_type": "stream",
     "text": [
      "Iteration: 1 ; error = 1.0898\n",
      "Iteration: 2 ; error = 1.0797\n",
      "Iteration: 3 ; error = 1.0701\n",
      "Iteration: 4 ; error = 1.0613\n",
      "Iteration: 5 ; error = 1.0530\n",
      "Iteration: 6 ; error = 1.0453\n",
      "Iteration: 7 ; error = 1.0379\n",
      "Iteration: 8 ; error = 1.0310\n",
      "Iteration: 9 ; error = 1.0243\n",
      "Iteration: 10 ; error = 1.0181\n",
      "Iteration: 11 ; error = 1.0122\n",
      "Iteration: 12 ; error = 1.0066\n",
      "Iteration: 13 ; error = 1.0012\n",
      "Iteration: 14 ; error = 0.9961\n",
      "Iteration: 15 ; error = 0.9913\n",
      "Iteration: 16 ; error = 0.9866\n",
      "Iteration: 17 ; error = 0.9822\n",
      "Iteration: 18 ; error = 0.9779\n",
      "Iteration: 19 ; error = 0.9737\n",
      "Iteration: 20 ; error = 0.9697\n"
     ]
    }
   ],
   "source": [
    "# Step 5: Train Matrix Factorization Model\n",
    "mf = MatrixFactorization(R, K=2, alpha=0.01, beta=0.01, iterations=20)\n",
    "predicted_matrix = mf.train()"
   ]
  },
  {
   "cell_type": "code",
   "execution_count": 9,
   "id": "b6068364",
   "metadata": {},
   "outputs": [
    {
     "name": "stdout",
     "output_type": "stream",
     "text": [
      "\n",
      "Predicted Ratings Matrix:\n",
      "movie_id     0     1     2     3\n",
      "user_id                         \n",
      "0         3.47  3.31  3.36  3.63\n",
      "1         3.68  3.63  3.49  3.91\n",
      "2         3.84  3.70  3.58  3.75\n",
      "3         3.23  2.98  3.14  3.22\n"
     ]
    }
   ],
   "source": [
    "# Step 6: Compare Predictions\n",
    "pred_df = pd.DataFrame(\n",
    "    predicted_matrix, columns=R_df.columns, index=R_df.index)\n",
    "print(\"\\nPredicted Ratings Matrix:\")\n",
    "print(pred_df.round(2))"
   ]
  },
  {
   "cell_type": "code",
   "execution_count": 10,
   "id": "39bfda73",
   "metadata": {},
   "outputs": [
    {
     "data": {
      "image/png": "[encoded data removed]",
      "text/plain": [
       "<Figure size 1200x500 with 2 Axes>"
      ]
     },
     "metadata": {},
     "output_type": "display_data"
    }
   ],
   "source": [
    "# Step 7: Visualize Original vs Predicted Ratings\n",
    "plt.figure(figsize=(12, 5))\n",
    "\n",
    "plt.subplot(1, 2, 1)\n",
    "sns.heatmap(R_df, annot=True, cmap='Blues', cbar=False)\n",
    "plt.title(\"Original Ratings\")\n",
    "\n",
    "plt.subplot(1, 2, 2)\n",
    "sns.heatmap(pred_df.round(2), annot=True, cmap='Greens', cbar=False)\n",
    "plt.title(\"Predicted Ratings\")\n",
    "\n",
    "plt.tight_layout()\n",
    "plt.show()"
   ]
  },
  {
   "cell_type": "code",
   "execution_count": null,
   "id": "e651440e",
   "metadata": {},
   "outputs": [],
   "source": []
  }
 ],
 "metadata": {
  "kernelspec": {
   "display_name": "base",
   "language": "python",
   "name": "python3"
  },
  "language_info": {
   "codemirror_mode": {
    "name": "ipython",
    "version": 3
   },
   "file_extension": ".py",
   "mimetype": "text/x-python",
   "name": "python",
   "nbconvert_exporter": "python",
   "pygments_lexer": "ipython3",
   "version": "3.11.13"
  }
 },
 "nbformat": 4,
 "nbformat_minor": 5
}
